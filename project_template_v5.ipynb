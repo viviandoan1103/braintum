{
 "cells": [
  {
   "cell_type": "markdown",
   "metadata": {},
   "source": [
    "## Brain Tumor Prediction and Treatment Analysis"
   ]
  },
  {
   "cell_type": "markdown",
   "metadata": {},
   "source": [
    "## Introduction \n",
    "The National Brain Tumor Society reports that about 1 million Americans are living with a brain tumor with an estimated 90,000 more to receive a primary brain tumor diagnosis in the following year. There are more than 100 distinct types of primary brain tumors, each with its own spectrum of presentations, treatments, and outcomes. More than any other cancer, brain tumors can have lasting and life-altering physical, cognitive, and psychological impacts on a patient’s life.\n",
    "\n",
    "Our study addresses three research questions that aim to understand characteristics of brain tumor diagnosis and treatment to help reveal (if any) patterns of brain tumor presentation, to support diagnosis and treatment. Our analysis aims to understand the frequency and distribution of brain tumors within the studied population. \n",
    "\n",
    "1. Does tumor size differ significantly between benign and malignant tumors?\n",
    "2. What is the relationship between treatment modalities (radiation, surgery, chemotherapy) and patient survival rates?\n",
    "3. Does the first symptom presented predict the stage of the tumor at its discovery?\n",
    "\n",
    "The dataset utilized in this analysis was retrieved from Kaggle https://www.kaggle.com/datasets/miadul/brain-tumor-dataset. The data consists of simulated medical repositories comprising of 20,000 synthetic patient records. While the data is simulated, its breadth reflects a variety of medical scenarios, incorporating diverse patient demographics, tumor attributes, and clinical outcomes."
   ]
  },
  {
   "cell_type": "markdown",
   "metadata": {},
   "source": [
    "## Data wrangling: Refining, Grouping, and Shaping for Analysis\n",
    "To prepare the data for analysis, the following steps were performed: \n",
    "- Rounded numbers in \"Tumor_Size\" column, for ease of mathematical manipulation   \n",
    "- Create a smaller dataframe \"brain_tumor_dataset_3\" containing variables of interest \n",
    "- Convert MRI results to 0 and 1 (Negative and Positive) \n",
    "- Convert \"Stage\" to integer values (1, 2, 3, 4) \n",
    "- Convert \"Gender\" to 1 and 2 (Male and Female)\n",
    "- Convert the three treatment columns (Radiation_Treatment, Surgery_Performed, and Chemotherapy) to 0 and 1 (No/Yes)"
   ]
  },
  {
   "cell_type": "code",
   "execution_count": 2,
   "metadata": {},
   "outputs": [
    {
     "ename": "NameError",
     "evalue": "name 'brain_tumor_dataset_1' is not defined",
     "output_type": "error",
     "traceback": [
      "\u001b[0;31m---------------------------------------------------------------------------\u001b[0m",
      "\u001b[0;31mNameError\u001b[0m                                 Traceback (most recent call last)",
      "Cell \u001b[0;32mIn[2], line 14\u001b[0m\n\u001b[1;32m     11\u001b[0m brain_tumor_dataset \u001b[38;5;241m=\u001b[39m pd\u001b[38;5;241m.\u001b[39mread_csv(\u001b[38;5;124m\"\u001b[39m\u001b[38;5;124mbrain_tumor_dataset.csv\u001b[39m\u001b[38;5;124m\"\u001b[39m)\n\u001b[1;32m     12\u001b[0m brain_tumor_dataset\u001b[38;5;241m.\u001b[39mhead()\n\u001b[0;32m---> 14\u001b[0m brain_tumor_dataset_2 \u001b[38;5;241m=\u001b[39m \u001b[43mbrain_tumor_dataset_1\u001b[49m\u001b[38;5;241m.\u001b[39mcopy()\n\u001b[1;32m     15\u001b[0m brain_tumor_dataset_3 \u001b[38;5;241m=\u001b[39m brain_tumor_dataset_2[[\u001b[38;5;124m\"\u001b[39m\u001b[38;5;124mTumor_Size\u001b[39m\u001b[38;5;124m\"\u001b[39m, \u001b[38;5;124m\"\u001b[39m\u001b[38;5;124mTumor_Type\u001b[39m\u001b[38;5;124m\"\u001b[39m, \u001b[38;5;124m\"\u001b[39m\u001b[38;5;124mSymptom_1\u001b[39m\u001b[38;5;124m\"\u001b[39m, \u001b[38;5;124m\"\u001b[39m\u001b[38;5;124mStage\u001b[39m\u001b[38;5;124m\"\u001b[39m, \u001b[38;5;124m\"\u001b[39m\u001b[38;5;124mRadiation_Treatment\u001b[39m\u001b[38;5;124m\"\u001b[39m, \u001b[38;5;124m\"\u001b[39m\u001b[38;5;124mSurgery_Performed\u001b[39m\u001b[38;5;124m\"\u001b[39m, \u001b[38;5;124m\"\u001b[39m\u001b[38;5;124mChemotherapy\u001b[39m\u001b[38;5;124m\"\u001b[39m, \u001b[38;5;124m\"\u001b[39m\u001b[38;5;124mSurvival_Rate\u001b[39m\u001b[38;5;124m\"\u001b[39m, \u001b[38;5;124m\"\u001b[39m\u001b[38;5;124mGender\u001b[39m\u001b[38;5;124m\"\u001b[39m, \u001b[38;5;124m\"\u001b[39m\u001b[38;5;124mMRI_Result\u001b[39m\u001b[38;5;124m\"\u001b[39m]]\n\u001b[1;32m     16\u001b[0m brain_tumor_dataset_3\u001b[38;5;241m.\u001b[39mhead()\n",
      "\u001b[0;31mNameError\u001b[0m: name 'brain_tumor_dataset_1' is not defined"
     ]
    }
   ],
   "source": [
    "import numpy as np\n",
    "import pandas as pd\n",
    "import plotly.express as px\n",
    "import matplotlib.pyplot as plt\n",
    "import geopandas as gpd\n",
    "import statistics\n",
    "import datetime\n",
    "import seaborn as sns\n",
    "%matplotlib inline\n",
    "\n",
    "brain_tumor_dataset = pd.read_csv(\"brain_tumor_dataset.csv\")\n",
    "brain_tumor_dataset.head()\n",
    "\n",
    "brain_tumor_dataset_2 = brain_tumor_dataset_1.copy()\n",
    "brain_tumor_dataset_3 = brain_tumor_dataset_2[[\"Tumor_Size\", \"Tumor_Type\", \"Symptom_1\", \"Stage\", \"Radiation_Treatment\", \"Surgery_Performed\", \"Chemotherapy\", \"Survival_Rate\", \"Gender\", \"MRI_Result\"]]\n",
    "brain_tumor_dataset_3.head()\n",
    "brain_tumor_dataset_3[\"Tumor_Size\"] = brain_tumor_dataset_1[\"Tumor_Size\"].round(2)\n",
    "#display(brain_tumor_dataset_3.reset_index())\n",
    "\n",
    "brain_tumor_dataset_3[\"Stage\"] = brain_tumor_dataset_1[\"Stage\"].replace({\"I\": 1, \"II\": 2, \"III\": 3, \"IV\": 4})\n",
    "brain_tumor_dataset_3[\"Gender\"] = brain_tumor_dataset_1[\"Gender\"].replace({\"Male\": 1, \"Female\": 2})\n",
    "\n",
    "brain_tumor_dataset_3[\"MRI_Result\"] = brain_tumor_dataset_3[\"MRI_Result\"].replace({\"Negative\": 0, \"Positive\": 1})\n",
    "brain_tumor_dataset_3[\"Radiation_Treatment\"] = brain_tumor_dataset_3[\"Radiation_Treatment\"].replace({\"No\": 0, \"Yes\": 1})\n",
    "brain_tumor_dataset_3[\"Surgery_Performed\"] = brain_tumor_dataset_3[\"Surgery_Performed\"].replace({\"No\": 0, \"Yes\": 1})\n",
    "brain_tumor_dataset_3[\"Chemotherapy\"] = brain_tumor_dataset_3[\"Chemotherapy\"].replace({\"No\": 0, \"Yes\": 1})\n",
    "\n",
    "display(brain_tumor_dataset_3)"
   ]
  },
  {
   "cell_type": "markdown",
   "metadata": {},
   "source": [
    "## Visualize the data: Change the subtitle here to describe what you are plotting etc.\n",
    " \n",
    "\n",
    "Create visualizations of your data and findings. Describe the plots, what they show, and how they give insight into your the question you are addressing. Include the code to create these plots in the Python sections belows. You can also discuss the plots after the code. Finally, be sure to make plots as clear as possible by having clear axis labels, legends, captions etc., so that it is easy for the reader to quickly understand the central information being conveyed. \n",
    "\n"
   ]
  },
  {
   "cell_type": "code",
   "execution_count": null,
   "metadata": {},
   "outputs": [],
   "source": [
    "# Show the analyses you did here\n",
    "\n",
    "# Breaking this up to multiple cells with multiple descriptions of what you did is probably a good idea\n",
    "\n"
   ]
  },
  {
   "cell_type": "markdown",
   "metadata": {},
   "source": [
    "## Analyses: subtitle about the analyses/models you are using \n",
    "\n",
    "Include other analyses here, including extracting insights using pandas and also potentially including hypothesis tests and machine learning methods in the final version of your project once we have disucssed these methods in class. \n"
   ]
  },
  {
   "cell_type": "code",
   "execution_count": null,
   "metadata": {},
   "outputs": [],
   "source": [
    "# Show the analyses you did here\n",
    "\n",
    "# Breaking this up to multiple cells with multiple descriptions of what you did is a good idea\n",
    "\n"
   ]
  },
  {
   "cell_type": "markdown",
   "metadata": {},
   "source": [
    "## Conclusions\n",
    "\n",
    "Write a few paragraphs summarizing what you found, how the findings address your question of interest, and possible future directions. Please make sure describe your conclusions in an intuitive way, and make sure that your argument is strong and backed by solid evidence from your data. \n"
   ]
  },
  {
   "cell_type": "markdown",
   "metadata": {},
   "source": [
    "## Reflection\n",
    "  \n",
    "\n",
    "Write a few paragraphs describing what went well with this project and what was more difficult. Also describe any additional analyses you tried that you did not end up including in this report, and approximately how much time you spend working the project. \n",
    "\n",
    "Finally, please go to Canvas and answer a few questions related to how the project went.\n",
    "\n"
   ]
  },
  {
   "cell_type": "markdown",
   "metadata": {},
   "source": [
    "## Appendix (optional)\n",
    "\n",
    "If there is additional code you would like to include (in order to keep your project report 10 pages or less) you can include it here. Additionally, you could create a GitHub page that has all the working code and data for your analyses (this could be beneficial later as well if you want to show this to future employers, etc.).  \n",
    "\n"
   ]
  }
 ],
 "metadata": {
  "kernelspec": {
   "display_name": "Python 3 (ipykernel)",
   "language": "python",
   "name": "python3"
  },
  "language_info": {
   "codemirror_mode": {
    "name": "ipython",
    "version": 3
   },
   "file_extension": ".py",
   "mimetype": "text/x-python",
   "name": "python",
   "nbconvert_exporter": "python",
   "pygments_lexer": "ipython3",
   "version": "3.13.1"
  }
 },
 "nbformat": 4,
 "nbformat_minor": 4
}
